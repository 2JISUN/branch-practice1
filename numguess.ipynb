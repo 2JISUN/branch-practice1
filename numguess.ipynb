{
 "cells": [
  {
   "cell_type": "code",
   "execution_count": 4,
   "id": "9684c838",
   "metadata": {},
   "outputs": [
    {
     "name": "stdout",
     "output_type": "stream",
     "text": [
      "14\n",
      "Guess the num(1-100): 89\n",
      "down\n",
      "Guess the num(1-100): 12\n",
      "up\n",
      "Guess the num(1-100): 14\n",
      "good\n"
     ]
    }
   ],
   "source": [
    "from random import randint\n",
    "answer = randint(1,100)\n",
    "print(answer)\n",
    "\n",
    "while True:\n",
    "    guess = int(input(\"Guess the num(1-100): \"))\n",
    "    if answer == guess:\n",
    "        print(\"good\")\n",
    "        break\n",
    "    elif answer>guess:\n",
    "        print(\"up\")\n",
    "    elif answer<guess:\n",
    "        print(\"down\")"
   ]
  }
 ],
 "metadata": {
  "kernelspec": {
   "display_name": "Python 3 (ipykernel)",
   "language": "python",
   "name": "python3"
  },
  "language_info": {
   "codemirror_mode": {
    "name": "ipython",
    "version": 3
   },
   "file_extension": ".py",
   "mimetype": "text/x-python",
   "name": "python",
   "nbconvert_exporter": "python",
   "pygments_lexer": "ipython3",
   "version": "3.9.12"
  },
  "toc": {
   "base_numbering": 1,
   "nav_menu": {},
   "number_sections": true,
   "sideBar": true,
   "skip_h1_title": false,
   "title_cell": "Table of Contents",
   "title_sidebar": "Contents",
   "toc_cell": false,
   "toc_position": {},
   "toc_section_display": true,
   "toc_window_display": false
  }
 },
 "nbformat": 4,
 "nbformat_minor": 5
}
